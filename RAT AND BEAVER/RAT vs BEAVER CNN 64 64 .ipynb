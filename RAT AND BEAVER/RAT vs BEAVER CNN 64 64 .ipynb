{
 "cells": [
  {
   "cell_type": "code",
   "execution_count": 1,
   "metadata": {},
   "outputs": [],
   "source": [
    "import tensorflow as tf\n",
    "from tensorflow.keras.models import Sequential\n",
    "from tensorflow.keras.layers import Dropout, Activation, Dense, Flatten, Conv2D, MaxPooling2D\n",
    "import pickle"
   ]
  },
  {
   "cell_type": "code",
   "execution_count": 2,
   "metadata": {
    "scrolled": true
   },
   "outputs": [
    {
     "name": "stdout",
     "output_type": "stream",
     "text": [
      "Train on 913 samples, validate on 305 samples\n",
      "Epoch 1/5\n",
      "913/913 [==============================] - 3s 3ms/sample - loss: 0.6603 - accuracy: 0.6232 - val_loss: 0.5860 - val_accuracy: 0.6787\n",
      "Epoch 2/5\n",
      "913/913 [==============================] - 0s 403us/sample - loss: 0.5413 - accuracy: 0.7382 - val_loss: 0.4426 - val_accuracy: 0.8131\n",
      "Epoch 3/5\n",
      "913/913 [==============================] - 0s 405us/sample - loss: 0.4614 - accuracy: 0.7853 - val_loss: 0.4439 - val_accuracy: 0.8000\n",
      "Epoch 4/5\n",
      "913/913 [==============================] - 0s 403us/sample - loss: 0.4576 - accuracy: 0.7897 - val_loss: 0.5328 - val_accuracy: 0.7213\n",
      "Epoch 5/5\n",
      "913/913 [==============================] - 0s 400us/sample - loss: 0.4182 - accuracy: 0.7974 - val_loss: 0.3906 - val_accuracy: 0.8393\n"
     ]
    },
    {
     "data": {
      "text/plain": [
       "<tensorflow.python.keras.callbacks.History at 0x214621679c8>"
      ]
     },
     "execution_count": 2,
     "metadata": {},
     "output_type": "execute_result"
    }
   ],
   "source": [
    "pickle_in = open(\"X.pickle\",\"rb\")\n",
    "X = pickle.load(pickle_in)\n",
    "\n",
    "pickle_in = open(\"y.pickle\",\"rb\")\n",
    "y = pickle.load(pickle_in)\n",
    "\n",
    "X = X/255.0\n",
    "\n",
    "model = Sequential()\n",
    "\n",
    "model.add(Conv2D(64, (3, 3), activation='relu', input_shape=X.shape[1:]))\n",
    "model.add(MaxPooling2D(pool_size=(2, 2)))\n",
    "\n",
    "model.add( Conv2D(64, (3,3), activation='relu'))\n",
    "model.add(MaxPooling2D(pool_size=(2,2)))\n",
    "\n",
    "model.add(Flatten())\n",
    "model.add(Dense(64))\n",
    "model.add(Dropout(0.5))\n",
    "          \n",
    "model.add(Dense(1, activation='sigmoid'))          \n",
    "\n",
    "model.compile(loss='binary_crossentropy',\n",
    "              optimizer='adam',\n",
    "              metrics=['accuracy'])\n",
    "          \n",
    "model.fit(X, y, batch_size=16, epochs=5, validation_split=0.25)"
   ]
  },
  {
   "cell_type": "code",
   "execution_count": 4,
   "metadata": {},
   "outputs": [
    {
     "name": "stdout",
     "output_type": "stream",
     "text": [
      "INFO:tensorflow:Assets written to: RAT AND BEAVER 64x2.model\\assets\n"
     ]
    }
   ],
   "source": [
    "model.save(\"RAT AND BEAVER 64x2.model\")"
   ]
  },
  {
   "cell_type": "code",
   "execution_count": null,
   "metadata": {},
   "outputs": [],
   "source": []
  },
  {
   "cell_type": "code",
   "execution_count": null,
   "metadata": {},
   "outputs": [],
   "source": []
  },
  {
   "cell_type": "code",
   "execution_count": null,
   "metadata": {},
   "outputs": [],
   "source": []
  },
  {
   "cell_type": "code",
   "execution_count": null,
   "metadata": {},
   "outputs": [],
   "source": []
  }
 ],
 "metadata": {
  "kernelspec": {
   "display_name": "gpu",
   "language": "python",
   "name": "gpu"
  },
  "language_info": {
   "codemirror_mode": {
    "name": "ipython",
    "version": 3
   },
   "file_extension": ".py",
   "mimetype": "text/x-python",
   "name": "python",
   "nbconvert_exporter": "python",
   "pygments_lexer": "ipython3",
   "version": "3.7.5"
  }
 },
 "nbformat": 4,
 "nbformat_minor": 2
}
