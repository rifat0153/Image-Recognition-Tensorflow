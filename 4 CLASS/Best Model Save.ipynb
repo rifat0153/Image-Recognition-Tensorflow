{
 "cells": [
  {
   "cell_type": "code",
   "execution_count": 1,
   "metadata": {},
   "outputs": [],
   "source": [
    "from tensorflow.keras.models import Sequential\n",
    "from tensorflow.keras.layers import Dense, Dropout, Activation, Flatten\n",
    "from tensorflow.keras.layers import Conv2D, MaxPooling2D\n",
    "# more info on callbakcs: https://keras.io/callbacks/ model saver is cool too.\n",
    "from tensorflow.keras.callbacks import TensorBoard\n",
    "import pickle\n",
    "import datetime"
   ]
  },
  {
   "cell_type": "code",
   "execution_count": 2,
   "metadata": {},
   "outputs": [],
   "source": [
    "pickle_in = open(\"X.pickle\",\"rb\")\n",
    "X = pickle.load(pickle_in)\n",
    "\n",
    "pickle_in = open(\"y.pickle\",\"rb\")\n",
    "y = pickle.load(pickle_in)\n",
    "\n",
    "X = X/255.0"
   ]
  },
  {
   "cell_type": "code",
   "execution_count": null,
   "metadata": {},
   "outputs": [],
   "source": [
    "dense_layers = [2]\n",
    "layer_sizes = [64]\n",
    "conv_layers = [3]\n",
    "\n",
    "for dense_layer in dense_layers:\n",
    "    for layer_size in layer_sizes:\n",
    "        for conv_layer in conv_layers:\n",
    "            #NAME = \"{}-conv-{}-nodes-{}-dense-{}\".format(conv_layer, layer_size, dense_layer, datetime.datetime.now().strftime(\"%Y-%m-%d--%H-%M-%S\"))\n",
    "            NAME = \"BEST\"\n",
    "            print(NAME)\n",
    "\n",
    "            model = Sequential()\n",
    "\n",
    "            model.add(Conv2D(layer_size, (3, 3), input_shape=X.shape[1:]))\n",
    "            model.add(Activation('relu'))\n",
    "            model.add(MaxPooling2D(pool_size=(2, 2)))\n",
    "\n",
    "            for l in range(conv_layer-1):\n",
    "                model.add(Conv2D(layer_size, (3, 3)))\n",
    "                model.add(Activation('relu'))\n",
    "                model.add(MaxPooling2D(pool_size=(2, 2)))\n",
    "\n",
    "            model.add(Flatten())\n",
    "\n",
    "            for _ in range(dense_layer):\n",
    "                model.add(Dense(layer_size))\n",
    "                model.add(Activation('relu'))\n",
    "                model.add(Dropout(0.1))\n",
    "                \n",
    "\n",
    "            model.add(Dense(4))\n",
    "            model.add(Activation('softmax'))\n",
    "\n",
    "            tensorboard = TensorBoard(log_dir=\"logs\\{}\".format(NAME))\n",
    "\n",
    "            model.compile(loss='sparse_categorical_crossentropy',\n",
    "                          optimizer='adam',\n",
    "                          metrics=['accuracy'],\n",
    "                          )\n",
    "\n",
    "            model.fit(X, y,\n",
    "                      batch_size=16,\n",
    "                      epochs=10,\n",
    "                      validation_split=0.2,\n",
    "                      callbacks=[tensorboard])"
   ]
  },
  {
   "cell_type": "code",
   "execution_count": 3,
   "metadata": {},
   "outputs": [
    {
     "name": "stdout",
     "output_type": "stream",
     "text": [
      "BEST\n",
      "Train on 1600 samples, validate on 400 samples\n",
      "Epoch 1/6\n",
      "1600/1600 [==============================] - 5s 3ms/sample - loss: 1.4001 - accuracy: 0.3050 - val_loss: 1.1272 - val_accuracy: 0.5000\n",
      "Epoch 2/6\n",
      "1600/1600 [==============================] - 2s 1ms/sample - loss: 1.0595 - accuracy: 0.5138 - val_loss: 0.9315 - val_accuracy: 0.6050\n",
      "Epoch 3/6\n",
      "1600/1600 [==============================] - 2s 1ms/sample - loss: 0.8763 - accuracy: 0.6294 - val_loss: 0.7963 - val_accuracy: 0.6425\n",
      "Epoch 4/6\n",
      "1600/1600 [==============================] - 2s 1ms/sample - loss: 0.6684 - accuracy: 0.7200 - val_loss: 0.7060 - val_accuracy: 0.7200\n",
      "Epoch 5/6\n",
      "1600/1600 [==============================] - 2s 1ms/sample - loss: 0.4607 - accuracy: 0.8188 - val_loss: 0.6155 - val_accuracy: 0.7750\n",
      "Epoch 6/6\n",
      "1600/1600 [==============================] - 2s 1ms/sample - loss: 0.3510 - accuracy: 0.8681 - val_loss: 0.6379 - val_accuracy: 0.7650\n"
     ]
    },
    {
     "data": {
      "text/plain": [
       "<tensorflow.python.keras.callbacks.History at 0x29be1555b08>"
      ]
     },
     "execution_count": 3,
     "metadata": {},
     "output_type": "execute_result"
    }
   ],
   "source": [
    "\n",
    "            #NAME = \"{}-conv-{}-nodes-{}-dense-{}\".format(conv_layer, layer_size, dense_layer, datetime.datetime.now().strftime(\"%Y-%m-%d--%H-%M-%S\"))\n",
    "            NAME = \"BEST\"\n",
    "            print(NAME)\n",
    "\n",
    "            model = Sequential()\n",
    "\n",
    "            model.add(Conv2D(128, (3, 3), input_shape=X.shape[1:]))\n",
    "            model.add(Activation('relu'))\n",
    "            model.add(MaxPooling2D(pool_size=(2, 2)))\n",
    "\n",
    "          \n",
    "            model.add(Conv2D(128, (3, 3)))\n",
    "            model.add(Activation('relu'))\n",
    "            model.add(MaxPooling2D(pool_size=(2, 2)))\n",
    "\n",
    "            model.add(Flatten())\n",
    "\n",
    "           \n",
    "            model.add(Dense(64))\n",
    "            model.add(Activation('relu'))\n",
    "            model.add(Dropout(0.1))\n",
    "                \n",
    "\n",
    "            model.add(Dense(4))\n",
    "            model.add(Activation('softmax'))\n",
    "\n",
    "            tensorboard = TensorBoard(log_dir=\"logs\\{}\".format(NAME))\n",
    "\n",
    "            model.compile(loss='sparse_categorical_crossentropy',\n",
    "                          optimizer='adam',\n",
    "                          metrics=['accuracy'],\n",
    "                          )\n",
    "\n",
    "            model.fit(X, y,\n",
    "                      batch_size=64,\n",
    "                      epochs=6,\n",
    "                      validation_split=0.2,\n",
    "                      callbacks=[tensorboard])"
   ]
  },
  {
   "cell_type": "code",
   "execution_count": 4,
   "metadata": {},
   "outputs": [
    {
     "name": "stdout",
     "output_type": "stream",
     "text": [
      "WARNING:tensorflow:From C:\\Users\\Rifat\\Anaconda3\\envs\\gpu\\lib\\site-packages\\tensorflow_core\\python\\ops\\resource_variable_ops.py:1781: calling BaseResourceVariable.__init__ (from tensorflow.python.ops.resource_variable_ops) with constraint is deprecated and will be removed in a future version.\n",
      "Instructions for updating:\n",
      "If using Keras pass *_constraint arguments to layers.\n",
      "INFO:tensorflow:Assets written to: BEST.model\\assets\n"
     ]
    }
   ],
   "source": [
    "model.save('BEST.model')"
   ]
  },
  {
   "cell_type": "code",
   "execution_count": null,
   "metadata": {},
   "outputs": [],
   "source": []
  },
  {
   "cell_type": "code",
   "execution_count": null,
   "metadata": {},
   "outputs": [],
   "source": []
  },
  {
   "cell_type": "code",
   "execution_count": null,
   "metadata": {},
   "outputs": [],
   "source": []
  },
  {
   "cell_type": "code",
   "execution_count": null,
   "metadata": {},
   "outputs": [],
   "source": []
  },
  {
   "cell_type": "code",
   "execution_count": null,
   "metadata": {},
   "outputs": [],
   "source": []
  },
  {
   "cell_type": "code",
   "execution_count": null,
   "metadata": {},
   "outputs": [],
   "source": []
  },
  {
   "cell_type": "code",
   "execution_count": null,
   "metadata": {},
   "outputs": [],
   "source": []
  },
  {
   "cell_type": "code",
   "execution_count": null,
   "metadata": {},
   "outputs": [],
   "source": []
  }
 ],
 "metadata": {
  "kernelspec": {
   "display_name": "gpu",
   "language": "python",
   "name": "gpu"
  },
  "language_info": {
   "codemirror_mode": {
    "name": "ipython",
    "version": 3
   },
   "file_extension": ".py",
   "mimetype": "text/x-python",
   "name": "python",
   "nbconvert_exporter": "python",
   "pygments_lexer": "ipython3",
   "version": "3.7.5"
  }
 },
 "nbformat": 4,
 "nbformat_minor": 2
}
