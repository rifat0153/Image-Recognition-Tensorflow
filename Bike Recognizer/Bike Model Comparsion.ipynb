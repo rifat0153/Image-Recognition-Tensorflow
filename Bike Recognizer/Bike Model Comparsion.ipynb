{
 "cells": [
  {
   "cell_type": "code",
   "execution_count": 7,
   "metadata": {},
   "outputs": [
    {
     "name": "stdout",
     "output_type": "stream",
     "text": [
      "Train on 1260 samples, validate on 316 samples\n",
      "Epoch 1/15\n",
      "1260/1260 [==============================] - 3s 2ms/sample - loss: 0.6932 - accuracy: 0.5135 - val_loss: 0.6798 - val_accuracy: 0.5570\n",
      "Epoch 2/15\n",
      "1260/1260 [==============================] - 3s 2ms/sample - loss: 0.6668 - accuracy: 0.5754 - val_loss: 0.6565 - val_accuracy: 0.6139\n",
      "Epoch 3/15\n",
      "1260/1260 [==============================] - 2s 2ms/sample - loss: 0.6325 - accuracy: 0.6413 - val_loss: 0.6098 - val_accuracy: 0.6519\n",
      "Epoch 4/15\n",
      "1260/1260 [==============================] - 2s 2ms/sample - loss: 0.6167 - accuracy: 0.6603 - val_loss: 0.6114 - val_accuracy: 0.6456\n",
      "Epoch 5/15\n",
      "1260/1260 [==============================] - 2s 2ms/sample - loss: 0.5607 - accuracy: 0.7095 - val_loss: 0.5705 - val_accuracy: 0.6930\n",
      "Epoch 6/15\n",
      "1260/1260 [==============================] - 2s 2ms/sample - loss: 0.5002 - accuracy: 0.7603 - val_loss: 0.5539 - val_accuracy: 0.7120\n",
      "Epoch 7/15\n",
      "1260/1260 [==============================] - 2s 2ms/sample - loss: 0.4007 - accuracy: 0.8190 - val_loss: 0.4796 - val_accuracy: 0.7658\n",
      "Epoch 8/15\n",
      "1260/1260 [==============================] - 2s 2ms/sample - loss: 0.2601 - accuracy: 0.8984 - val_loss: 0.5120 - val_accuracy: 0.7753\n",
      "Epoch 9/15\n",
      "1260/1260 [==============================] - 2s 2ms/sample - loss: 0.1719 - accuracy: 0.9452 - val_loss: 0.5038 - val_accuracy: 0.8006\n",
      "Epoch 10/15\n",
      "1260/1260 [==============================] - 2s 2ms/sample - loss: 0.1064 - accuracy: 0.9619 - val_loss: 0.3931 - val_accuracy: 0.8734\n",
      "Epoch 11/15\n",
      "1260/1260 [==============================] - 2s 2ms/sample - loss: 0.0626 - accuracy: 0.9849 - val_loss: 0.4983 - val_accuracy: 0.8671\n",
      "Epoch 12/15\n",
      "1260/1260 [==============================] - 2s 2ms/sample - loss: 0.0511 - accuracy: 0.9913 - val_loss: 0.4950 - val_accuracy: 0.8703\n",
      "Epoch 13/15\n",
      "1260/1260 [==============================] - 2s 2ms/sample - loss: 0.0477 - accuracy: 0.9921 - val_loss: 0.4112 - val_accuracy: 0.8956\n",
      "Epoch 14/15\n",
      "1260/1260 [==============================] - 2s 2ms/sample - loss: 0.0287 - accuracy: 0.9968 - val_loss: 0.4292 - val_accuracy: 0.8924\n",
      "Epoch 15/15\n",
      "1260/1260 [==============================] - 2s 2ms/sample - loss: 0.0116 - accuracy: 0.9984 - val_loss: 0.4610 - val_accuracy: 0.8987\n"
     ]
    },
    {
     "data": {
      "text/plain": [
       "<tensorflow.python.keras.callbacks.History at 0x1081b3c0448>"
      ]
     },
     "execution_count": 7,
     "metadata": {},
     "output_type": "execute_result"
    }
   ],
   "source": [
    "from tensorflow.keras.models import Sequential\n",
    "from tensorflow.keras.layers import Dense, Dropout, Activation, Flatten\n",
    "from tensorflow.keras.layers import Conv2D, MaxPooling2D\n",
    "# more info on callbakcs: https://keras.io/callbacks/ model saver is cool too.\n",
    "from tensorflow.keras.callbacks import TensorBoard\n",
    "import pickle\n",
    "import datetime\n",
    "\n",
    "NAME = \"Fzs-vs-Gixxer-64x5-D0-CNN\"\n",
    "\n",
    "pickle_in = open(\"X.pickle\",\"rb\")\n",
    "X = pickle.load(pickle_in)\n",
    "\n",
    "pickle_in = open(\"y.pickle\",\"rb\")\n",
    "y = pickle.load(pickle_in)\n",
    "\n",
    "X = X/255.0\n",
    "\n",
    "model = Sequential()\n",
    "\n",
    "model.add(Conv2D(64, (3, 3), input_shape=X.shape[1:]))\n",
    "model.add(Activation('relu'))\n",
    "model.add(MaxPooling2D(pool_size=(2, 2)))\n",
    "\n",
    "model.add(Conv2D(64, (3, 3)))\n",
    "model.add(Activation('relu'))\n",
    "model.add(MaxPooling2D(pool_size=(2, 2)))\n",
    "\n",
    "model.add(Conv2D(32, (2, 2)))\n",
    "model.add(Activation('relu'))\n",
    "model.add(MaxPooling2D(pool_size=(2, 2)))\n",
    "\n",
    "model.add(Conv2D(64, (1, 1)))\n",
    "model.add(Activation('relu'))\n",
    "model.add(MaxPooling2D(pool_size=(2, 2)))\n",
    "\n",
    "model.add(Conv2D(64, (3, 3)))\n",
    "model.add(Activation('relu'))\n",
    "model.add(MaxPooling2D(pool_size=(2, 2)))\n",
    "\n",
    "model.add(Flatten())  # this converts our 3D feature maps to 1D feature vectors\n",
    "# model.add(Dense(64))\n",
    "# model.add(Activation('relu'))\n",
    "\n",
    "model.add(Dense(1))\n",
    "model.add(Activation('sigmoid'))\n",
    "\n",
    "d = datetime.datetime.now().strftime(\"%Y-%m-%d--%H-%M-%S\")\n",
    "\n",
    "tensorboard = TensorBoard(log_dir=\"logs\\{}\".format(NAME) +\" \"+ d)\n",
    "\n",
    "model.compile(loss='binary_crossentropy',\n",
    "              optimizer='adam',\n",
    "              metrics=['accuracy'],\n",
    "              )\n",
    "\n",
    "model.fit(X, y,\n",
    "          batch_size=16,\n",
    "          epochs=15,\n",
    "          validation_split=0.2,\n",
    "          callbacks=[tensorboard])"
   ]
  },
  {
   "cell_type": "code",
   "execution_count": null,
   "metadata": {},
   "outputs": [],
   "source": []
  }
 ],
 "metadata": {
  "kernelspec": {
   "display_name": "gpu",
   "language": "python",
   "name": "gpu"
  },
  "language_info": {
   "codemirror_mode": {
    "name": "ipython",
    "version": 3
   },
   "file_extension": ".py",
   "mimetype": "text/x-python",
   "name": "python",
   "nbconvert_exporter": "python",
   "pygments_lexer": "ipython3",
   "version": "3.7.5"
  }
 },
 "nbformat": 4,
 "nbformat_minor": 2
}
